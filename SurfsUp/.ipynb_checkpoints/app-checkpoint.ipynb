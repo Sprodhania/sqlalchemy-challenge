{
 "cells": [
  {
   "cell_type": "code",
   "execution_count": 1,
   "id": "372fd390-02c4-4667-b0a2-de8fd2cacf8e",
   "metadata": {},
   "outputs": [],
   "source": [
    "#Import Flask\n",
    "from flask import Flask"
   ]
  },
  {
   "cell_type": "code",
   "execution_count": 2,
   "id": "efda6db9-a2e4-4b5f-9a15-9f60731f8ba1",
   "metadata": {},
   "outputs": [],
   "source": [
    "#create and app\n",
    "app = Flask(__name__)"
   ]
  },
  {
   "cell_type": "code",
   "execution_count": 3,
   "id": "dd2821cb-7a56-4974-a9f3-ed79ae38bb24",
   "metadata": {},
   "outputs": [
    {
     "ename": "SyntaxError",
     "evalue": "incomplete input (723422008.py, line 5)",
     "output_type": "error",
     "traceback": [
      "\u001b[1;36m  Cell \u001b[1;32mIn[3], line 5\u001b[1;36m\u001b[0m\n\u001b[1;33m    return '''\u001b[0m\n\u001b[1;37m           ^\u001b[0m\n\u001b[1;31mSyntaxError\u001b[0m\u001b[1;31m:\u001b[0m incomplete input\n"
     ]
    }
   ],
   "source": [
    "#Start at the homepage\n",
    "@app.route('/')\n",
    "#list all the available routes\n",
    "def home():\n",
    "    return '''"
   ]
  },
  {
   "cell_type": "code",
   "execution_count": 4,
   "id": "ebb19260-5698-47b1-bf97-812de973337e",
   "metadata": {},
   "outputs": [],
   "source": [
    "#Define sttaic routes\n",
    "@app.route(\"/api/v1.0/precipitation\")\n",
    "def precipitation():\n",
    "    results = session.query(Measurement.date, Measurement.prcp).filter(Measurement.date >= one_year_ago).all()\n",
    "    precipitation_data = {date: prcp for date, prcp in results}\n",
    "    return jsonify(precipitation_data)"
   ]
  },
  {
   "cell_type": "code",
   "execution_count": null,
   "id": "99056010-9f2c-4cf4-9335-99ce7283d993",
   "metadata": {},
   "outputs": [],
   "source": []
  }
 ],
 "metadata": {
  "kernelspec": {
   "display_name": "Python 3 (ipykernel)",
   "language": "python",
   "name": "python3"
  },
  "language_info": {
   "codemirror_mode": {
    "name": "ipython",
    "version": 3
   },
   "file_extension": ".py",
   "mimetype": "text/x-python",
   "name": "python",
   "nbconvert_exporter": "python",
   "pygments_lexer": "ipython3",
   "version": "3.12.3"
  }
 },
 "nbformat": 4,
 "nbformat_minor": 5
}
